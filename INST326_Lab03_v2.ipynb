{
 "cells": [
  {
   "cell_type": "markdown",
   "id": "9070f1f1",
   "metadata": {},
   "source": [
    "### INST326 Lab 03 v2"
   ]
  },
  {
   "cell_type": "markdown",
   "id": "f588d94f",
   "metadata": {},
   "source": [
    "Insert your name here and add it to the notebook name"
   ]
  },
  {
   "cell_type": "markdown",
   "id": "c6c2d7cf",
   "metadata": {},
   "source": [
    "#### Exercises"
   ]
  },
  {
   "cell_type": "markdown",
   "id": "323d6967",
   "metadata": {},
   "source": [
    "The code cell below contains all the code from the INST326_SimpleGUI_Note_Form_IO.ipynb file that was reviewed in class on Monday. You can find it in Module 05.  \n",
    "In the code below I made a small modification to the submit function that converts the data collected by the form to a dictionary, then appends that dictionary to a list called notes. When the program runs and you click the Create Note button an entry form opens in a new window. Do the following.\n",
    "\n",
    "1. You can create multiple notes from the same form by entering or changing the default text, then clicking the submit button. Try changing the note title to 'note 1' then hit submit. Change the title to 'note 2' and hit submit again. change it to 'note 3' and hit submit again. Then hit Quit to exit the form. Press Quit again to exit the window. Go to the second code cell below, where it says print(notes), and run that cell. It should return a list with three dictionaries, containing each of your notes.\n",
    "\n",
    "2. Save this list of dictionaries to a text file. NOTE: Tasks 2 through 6 do not involve tkinter. Just regular python.\n",
    "3. Open the text file you just created and read the data back in to a new list of dictionaries. Your new list should be the same as the notes list.\n",
    "\n",
    "4. Import the csv module and save the notes list of dictionaries as a csv file, then read it back in to a new list.\n",
    "\n",
    "5. Import the json module and save the list of dicts to a json file using the json.dumps() method.\n",
    "6. Once your read and write code is working, create three new notes for real this time. One on saving and reading text files, one on saving and reading csv files, and one on saving and reading json files. The note should be useful to you and may include code snippets.\n",
    "\n",
    "Turn in this notebook and your text file from task 6 on elms."
   ]
  },
  {
   "cell_type": "markdown",
   "id": "59b531e3",
   "metadata": {},
   "source": [
    "Final note. The following code is written as strictly procedural code. That is, it is not taking advantage of OOP functionality. This is intentional. In the next 2 labs and project 2 you will rewrite this code using classes and OOP principles. You will also be adding more of your own notes to the ones you created in task 6, so take that step seriously. Everything you do in labs becomes useful in the projects."
   ]
  },
  {
   "cell_type": "code",
   "execution_count": 59,
   "id": "16c20311",
   "metadata": {},
   "outputs": [
    {
     "name": "stdout",
     "output_type": "stream",
     "text": [
      "2024-02-23 16:30:55.511365\n",
      "2024-02-23 16:30:55.511365-05:00\n",
      "Eastern Standard Time\n",
      "New note title\n",
      "I love u \n",
      "created 2024-02-23 16:31:31.578738, Eastern Standard Time\n"
     ]
    }
   ],
   "source": [
    "import tkinter as tk\n",
    "from tkinter import ttk\n",
    "from tkinter import filedialog\n",
    "import datetime # one module for working with dates and times\n",
    "import csv\n",
    "import json\n",
    "\n",
    "# dates and times can be tricky. consult the datetime documentation.\n",
    "now = datetime.datetime.now() # gets the current date and time\n",
    "local_now = now.astimezone() # shows the local time and the GMT offset\n",
    "local_tz = local_now.tzinfo \n",
    "\n",
    "print(now)\n",
    "print(local_now)\n",
    "print(local_tz)\n",
    "\n",
    "# create a string of dummy text for practice notes\n",
    "lorem = 'Lorem ipsum dolor sit amet, consectetur adipiscing elit. Etiam sit amet suscipit mi, non porttitor mauris. Aliquam in lorem risus. Proin mauris mauris, varius ac vulputate sed, tempor nec lacus. Morbi sodales turpis in placerat semper. Donec bibendum blandit ante sit amet hendrerit.'\n",
    "notes = []\n",
    "# function for submitting (doing something) with the note title and note text\n",
    "# also creates some metadata\n",
    "\n",
    "def submit():\n",
    "    global notes\n",
    "    created = datetime.datetime.now()\n",
    "    title = note_title.get()\n",
    "    text = note_text.get('1.0', 'end').strip('\\n')\n",
    "    meta = f'created {created}, {local_tz}'\n",
    "    note_dict = {'title':title, 'text':text, 'meta':meta}\n",
    "    notes.append(note_dict)\n",
    "    filetext=f\"{title}\\n{text}\\n{meta}\"\n",
    "    print(title)\n",
    "    print(text)\n",
    "    print(meta)\n",
    "    return filetext\n",
    "    \n",
    "def open_file():\n",
    "    filepath = filedialog.askopenfilename(initialdir=\"C:\\\\Users\\\\sdemp\\\\Documents\\\\GitHub\\\\Courses\\\\INST326\\\\test_files\",\n",
    "                                         filetypes=[(\"text files\", \"*.txt\"), \n",
    "                                                    (\"csv files\", \".csv\"),\n",
    "                                         (\"all files\", \"*.*\")])\n",
    "    file = open(filepath, \"r\")\n",
    "    file_list = file.read().split('\\n')\n",
    "    file.close()\n",
    "    note_title.delete(0, 'end')\n",
    "    note_text.delete('1.0', 'end')\n",
    "    note_title.insert(0, file_list[0])\n",
    "    note_text.insert('1.0', file_list[1])\n",
    "    meta = file_list[2]\n",
    "    print(meta)\n",
    "    \n",
    "    \n",
    "\n",
    "def save_file():\n",
    "    file = filedialog.asksaveasfile(initialdir=\"C:\\\\Users\\\\loudd\\\\OneDrive\\\\Desktop\\\\INST 326\\\\Files\",\n",
    "                                          defaultextension=\".txt\", \n",
    "                                    title=\"my first dialog box\",\n",
    "                                          filetypes=[(\"text file\", \".txt\"),\n",
    "                                         (\"all files\", \".*\")])\n",
    "    filetext=submit()\n",
    "    file.write(filetext)\n",
    "    file.close()\n",
    "    \n",
    "    \n",
    "\n",
    "# create the main window for our note form. Note the shift to calling it 'root'\n",
    "root = tk.Tk()\n",
    "root.geometry(\"600x400\")\n",
    "root.title('Note Form')\n",
    "root.config(bg='light gray')\n",
    "\n",
    "# create some labels for the note title and note text\n",
    "# we are using the grid layout. Notice the sticky='e' attribute. \n",
    "# this causes the label to 'stick' to the 'east' side of the grid cell\n",
    "title_label = tk.Label(root, bg='light gray', text='Note Title:')\n",
    "title_label.grid(padx=10, pady=10, row=1, column=0, sticky='e')\n",
    "\n",
    "text_label = tk.Label(root, bg='light gray', text='Note Text:')\n",
    "text_label.grid(padx=10, pady=10, row=2, column=0, sticky='e')\n",
    "\n",
    "link_label = tk.Label(root, bg='light gray', text='Note Title:')\n",
    "link_label.grid(padx=10, pady=10, row=3, column=0, sticky='e')\n",
    "\n",
    "tag_label = tk.Label(root, bg='light gray', text='Note Title:')\n",
    "tag_label.grid(padx=10, pady=10, row=4, column=0, sticky='e')\n",
    "\n",
    "# create our note title entry field\n",
    "note_title = tk.Entry(root, width=80)\n",
    "note_title.grid(padx=10, pady=10, row=1, column=1, sticky='w')\n",
    "note_title.insert(0, 'New note title') # adds default text (useful during development)\n",
    "\n",
    "# create our note text field\n",
    "note_text = tk.Text(root, height=10, width=60)\n",
    "note_text.grid(padx=10, pady=10, row=2, column=1)\n",
    "note_text.insert('1.0', lorem) # adds default text (useful during development)\n",
    "\n",
    "# create our note link entry field\n",
    "note_link = tk.Entry(root, width=80)\n",
    "note_link.grid(padx=10, pady=10, row=3, column=1, sticky='w')\n",
    "note_link.insert(0, 'If there is a link with this note enter it here. Else, enter \"None\"') # adds default text (useful during development)\n",
    "\n",
    "# create our note link entry field\n",
    "note_tags = tk.Entry(root, width=80)\n",
    "note_tags.grid(padx=10, pady=10, row=4, column=1, sticky='w')\n",
    "note_tags.insert(0, 'Enter #tags, separated by commas') # adds default text (useful during development)\n",
    "\n",
    "# note that the parameters for the Entry box and Text box are slightly different.\n",
    "\n",
    "\n",
    "\n",
    "# create some buttons and add them to the grid\n",
    "b1 = tk.Button(root, text='submit', command=submit)\n",
    "b1.grid(padx=10, pady=10, row=6, column=1, sticky='w')\n",
    "\n",
    "b2 = tk.Button(root, text='open file', command=open_file)\n",
    "b2.grid(padx=10, pady=10, row=5, column=1, sticky='w')\n",
    "\n",
    "b3 = tk.Button(root, text='save file', command=save_file)\n",
    "b3.grid(padx=10, pady=10, row=5, column=0)\n",
    "\n",
    "b4 = tk.Button(root, text='quit', command=root.destroy)\n",
    "b4.grid(padx=10, pady=10, row=6, column=0)\n",
    "\n",
    "root.mainloop()"
   ]
  },
  {
   "cell_type": "code",
   "execution_count": 60,
   "id": "7b39d98e",
   "metadata": {},
   "outputs": [
    {
     "name": "stdout",
     "output_type": "stream",
     "text": [
      "[{'title': 'New note title', 'text': 'I love u ', 'meta': 'created 2024-02-23 16:31:31.578738, Eastern Standard Time'}]\n"
     ]
    }
   ],
   "source": [
    "print(notes)"
   ]
  },
  {
   "cell_type": "code",
   "execution_count": 61,
   "id": "04ec077d",
   "metadata": {},
   "outputs": [],
   "source": [
    "# save as a text file here\n",
    "with open(\"notes1.txt\", \"w\") as f:\n",
    "    for note in notes:\n",
    "        f.write(f\"{note['title']}\\n{note['text']}\\n{note['meta']}\\n\")"
   ]
  },
  {
   "cell_type": "code",
   "execution_count": 62,
   "id": "d943a82b",
   "metadata": {},
   "outputs": [],
   "source": [
    "# read in your text file here\n",
    "new_notes = []\n",
    "with open(\"notes1.txt\", \"r\") as f:\n",
    "    lines = f.readlines()\n",
    "    for i in range(0, len(lines), 3):\n",
    "        title = lines[i].strip()\n",
    "        text = lines[i+1].strip()\n",
    "        meta = lines[i+2].strip()\n",
    "        new_notes.append({\"title\" : title, \"text\" : text, \"meta\" : meta})"
   ]
  },
  {
   "cell_type": "code",
   "execution_count": 63,
   "id": "3bfe3bf6",
   "metadata": {},
   "outputs": [],
   "source": [
    "# save as a csv file here\n",
    "with open(\"notes1.csv\", \"w\", newline ='') as csvfile:\n",
    "    fieldnames = [\"title\", \"text\", \"meta\"]\n",
    "    writer = csv.DictWriter(csvfile, fieldnames = fieldnames)\n",
    "    writer.writeheader()\n",
    "    for note in notes:\n",
    "        writer.writerow(note)"
   ]
  },
  {
   "cell_type": "code",
   "execution_count": 64,
   "id": "15683d05",
   "metadata": {},
   "outputs": [
    {
     "name": "stdout",
     "output_type": "stream",
     "text": [
      "{'title': 'New note title', 'text': 'I love u ', 'meta': 'created 2024-02-23 16:31:31.578738, Eastern Standard Time'}\n",
      "[{'title': 'New note title', 'text': 'I love u ', 'meta': 'created 2024-02-23 16:31:31.578738, Eastern Standard Time'}]\n"
     ]
    }
   ],
   "source": [
    "# read in your csv file here\n",
    "new_notes_csv = []\n",
    "with open(\"notes1.csv\", \"r\", newline = '') as csvfile:\n",
    "    reader = csv.DictReader(csvfile)\n",
    "    for row in reader:\n",
    "        print(row)\n",
    "        new_notes_csv.append(row)\n",
    "    print(new_notes_csv)"
   ]
  },
  {
   "cell_type": "code",
   "execution_count": 65,
   "id": "057012b2",
   "metadata": {},
   "outputs": [],
   "source": [
    "# save your json file here\n",
    "with open(\"notes1.json\", \"w\") as jsonfile:\n",
    "    json.dump(notes, jsonfile)"
   ]
  },
  {
   "cell_type": "code",
   "execution_count": 66,
   "id": "fa8be1f2",
   "metadata": {},
   "outputs": [],
   "source": [
    "# read your json file here\n",
    "with open(\"notes1.json\", \"r\") as jsonfile:\n",
    "    new_notes_json = json.load(jsonfile)"
   ]
  }
 ],
 "metadata": {
  "kernelspec": {
   "display_name": "Python 3 (ipykernel)",
   "language": "python",
   "name": "python3"
  },
  "language_info": {
   "codemirror_mode": {
    "name": "ipython",
    "version": 3
   },
   "file_extension": ".py",
   "mimetype": "text/x-python",
   "name": "python",
   "nbconvert_exporter": "python",
   "pygments_lexer": "ipython3",
   "version": "3.12.1"
  }
 },
 "nbformat": 4,
 "nbformat_minor": 5
}
