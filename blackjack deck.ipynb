{
 "cells": [
  {
   "cell_type": "code",
   "execution_count": 1,
   "id": "f058c792-360f-422c-85ee-fbcb93fdce34",
   "metadata": {},
   "outputs": [],
   "source": [
    "#Create three lists: suits, ranks, and card_values (Output to turn in: print each list with it's name) 3 points\n",
    "#In suits, include the following suits in this order: clubs, diamonds, hearts, spades\n",
    "#In ranks, include all of the number cards 2 - 10, the face cards jack, queen, king, and the ace, in that order. You should have 13 elements in the list. Be sure that all list elements are strings.\n",
    "#In card_values, insert an integer value for each card as follows. The value for each number card is the number on the card. The value for all face cards is 10. The value for the ace is 11. You should have 13 elements in your list corresponding to the order of ranks in the rank list. Be sure that all list elements are integers.\n",
    "#Use loops and string methods to generate a list of cards using the suits and ranks lists and the following naming format for each card ‘rank_of_suit’. Name the list ‘deck’ (Output to turn in: Print the list) 4 points\n",
    "#Confirm that there are 52 cards in deck, and that each is unique (no duplicates). (Output to turn in: print the results) 4 points\n",
    "#Import the random module and use it to shuffle the cards in the deck. (output to turn in: print the shuffled deck) 4 points\n",
    "#Use loops, conditionals, and string methods to sort the cards in deck by suit into four new lists - clubs, diamonds, hearts, spades (Output to turn in: Print each list) 4 points\n",
    "#Confirm that there are 13 cards in each list (Output to turn in: Print the results) 4 points\n",
    "#Use list append or list extend to combine the four suit lists into a new deck called deck2 (Output to turn in: Print deck2) 4 points\n",
    "#Shuffle deck2 (output to turn in: Print deck2 again) 4 points\n",
    "#Confirm that deck2 has 52 cards and that they are all unique (no duplicates) (Output to turn in: Print the results) 4 points\n",
    "#Use the deck list and the card_values list (plus loops, conditionals, and string methods) to create a dictionary where the card names in deck are the keys, and card_values are the values. (Output to turn in: Print the dictionary) 5 points\n",
    "#Copy your printed results and paste them into the text answer box. Then upload your python file."
   ]
  },
  {
   "cell_type": "code",
   "execution_count": 2,
   "id": "2dc17ca9-934d-4aed-9a1c-5ad02ad38d38",
   "metadata": {},
   "outputs": [
    {
     "name": "stdout",
     "output_type": "stream",
     "text": [
      "Suits: ['clubs', 'diamonds', 'hearts', 'spades']\n",
      "Ranks: ['2', '3', '4', '5', '6', '7', '8', '9', '10', 'jack', 'queen', 'king', 'ace']\n",
      "Card Values: [2, 3, 4, 5, 6, 7, 8, 9, 10, 10, 10, 10, 11]\n"
     ]
    }
   ],
   "source": [
    "suits = [\"clubs\", \"diamonds\", \"hearts\", \"spades\"]\n",
    "ranks = [\"2\", \"3\", \"4\", \"5\", \"6\", \"7\", \"8\", \"9\", \"10\", \"jack\", \"queen\", \"king\", \"ace\"]\n",
    "card_values = [2, 3 , 4, 5, 6, 7, 8, 9, 10, 10, 10, 10, 11]\n",
    "print(\"Suits:\", suits)\n",
    "print(\"Ranks:\", ranks)\n",
    "print(\"Card Values:\", card_values)\n",
    "\n"
   ]
  },
  {
   "cell_type": "code",
   "execution_count": 3,
   "id": "4099ce23-5679-4c67-bade-438faa06a8bb",
   "metadata": {},
   "outputs": [
    {
     "name": "stdout",
     "output_type": "stream",
     "text": [
      "['2_of_clubs', '3_of_clubs', '4_of_clubs', '5_of_clubs', '6_of_clubs', '7_of_clubs', '8_of_clubs', '9_of_clubs', '10_of_clubs', 'jack_of_clubs', 'queen_of_clubs', 'king_of_clubs', 'ace_of_clubs', '2_of_diamonds', '3_of_diamonds', '4_of_diamonds', '5_of_diamonds', '6_of_diamonds', '7_of_diamonds', '8_of_diamonds', '9_of_diamonds', '10_of_diamonds', 'jack_of_diamonds', 'queen_of_diamonds', 'king_of_diamonds', 'ace_of_diamonds', '2_of_hearts', '3_of_hearts', '4_of_hearts', '5_of_hearts', '6_of_hearts', '7_of_hearts', '8_of_hearts', '9_of_hearts', '10_of_hearts', 'jack_of_hearts', 'queen_of_hearts', 'king_of_hearts', 'ace_of_hearts', '2_of_spades', '3_of_spades', '4_of_spades', '5_of_spades', '6_of_spades', '7_of_spades', '8_of_spades', '9_of_spades', '10_of_spades', 'jack_of_spades', 'queen_of_spades', 'king_of_spades', 'ace_of_spades']\n"
     ]
    }
   ],
   "source": [
    "deck_of_cards = []\n",
    "for suit in suits:\n",
    "    for rank in ranks:\n",
    "        card_name = f'{rank}_of_{suit}'\n",
    "        deck_of_cards.append(card_name)\n",
    "print(deck_of_cards)\n"
   ]
  },
  {
   "cell_type": "code",
   "execution_count": 4,
   "id": "ca59cf26-fcf3-440d-826f-b837bf845579",
   "metadata": {},
   "outputs": [
    {
     "name": "stdout",
     "output_type": "stream",
     "text": [
      "52\n"
     ]
    }
   ],
   "source": [
    "len(deck_of_cards)\n",
    "print(len(set(deck_of_cards)))"
   ]
  },
  {
   "cell_type": "code",
   "execution_count": 5,
   "id": "17f725d5-f2e2-4f6f-8af4-2d393d8bfa25",
   "metadata": {},
   "outputs": [
    {
     "name": "stdout",
     "output_type": "stream",
     "text": [
      "['6_of_diamonds', '8_of_diamonds', '2_of_spades', '9_of_spades', '5_of_hearts', 'queen_of_clubs', 'king_of_spades', 'jack_of_clubs', '4_of_spades', '7_of_hearts', '5_of_clubs', 'ace_of_hearts', '4_of_clubs', '9_of_clubs', 'ace_of_clubs', '10_of_clubs', '6_of_spades', '3_of_hearts', '8_of_spades', 'jack_of_diamonds', '3_of_diamonds', '3_of_clubs', '4_of_diamonds', '9_of_diamonds', 'ace_of_spades', '5_of_spades', '10_of_spades', '2_of_diamonds', '10_of_diamonds', '3_of_spades', '7_of_spades', '6_of_clubs', 'jack_of_hearts', '4_of_hearts', 'queen_of_diamonds', 'queen_of_hearts', '2_of_hearts', '9_of_hearts', 'king_of_clubs', '6_of_hearts', '7_of_diamonds', '2_of_clubs', 'king_of_diamonds', 'jack_of_spades', '5_of_diamonds', '10_of_hearts', 'queen_of_spades', 'ace_of_diamonds', '8_of_clubs', 'king_of_hearts', '7_of_clubs', '8_of_hearts']\n"
     ]
    }
   ],
   "source": [
    "import random\n",
    "random.shuffle(deck_of_cards)\n",
    "print(deck_of_cards)"
   ]
  },
  {
   "cell_type": "code",
   "execution_count": 6,
   "id": "c016057b-985b-44e4-8725-50963033d758",
   "metadata": {
    "scrolled": true
   },
   "outputs": [
    {
     "name": "stdout",
     "output_type": "stream",
     "text": [
      "13\n",
      "13\n",
      "13\n",
      "13\n"
     ]
    }
   ],
   "source": [
    "spades = []\n",
    "clubs = []\n",
    "hearts = []\n",
    "diamonds = []\n",
    "for card in deck_of_cards:\n",
    "    if 'spades' in card:\n",
    "        spades.append(card)\n",
    "    elif 'clubs' in card:\n",
    "        clubs.append(card)\n",
    "    elif 'hearts' in card:\n",
    "        hearts.append(card)\n",
    "    elif 'diamonds' in card:\n",
    "        diamonds.append(card)\n",
    "print(len(spades))\n",
    "print(len(clubs))\n",
    "print(len(hearts))\n",
    "print(len(diamonds))\n"
   ]
  },
  {
   "cell_type": "code",
   "execution_count": 7,
   "id": "8ef90570-7db5-44fb-b237-da74bc4432b1",
   "metadata": {},
   "outputs": [
    {
     "name": "stdout",
     "output_type": "stream",
     "text": [
      "52\n",
      "52\n"
     ]
    }
   ],
   "source": [
    "deck2 = []\n",
    "deck2.extend(hearts)\n",
    "deck2.extend(spades)\n",
    "deck2.extend(clubs)\n",
    "deck2.extend(diamonds)\n",
    "print(len(deck2))\n",
    "print(len(set(deck2)))\n",
    "random.shuffle(deck2)\n"
   ]
  },
  {
   "cell_type": "code",
   "execution_count": 8,
   "id": "462d7ec3-e2da-40d0-a9cc-d019be45427f",
   "metadata": {},
   "outputs": [
    {
     "name": "stdout",
     "output_type": "stream",
     "text": [
      "{'2_of_clubs': 2, '3_of_clubs': 3, '4_of_clubs': 4, '5_of_clubs': 5, '6_of_clubs': 6, '7_of_clubs': 7, '8_of_clubs': 8, '9_of_clubs': 9, '10_of_clubs': 10, 'jack_of_clubs': 10, 'queen_of_clubs': 10, 'king_of_clubs': 10, 'ace_of_clubs': 11, '2_of_diamonds': 2, '3_of_diamonds': 3, '4_of_diamonds': 4, '5_of_diamonds': 5, '6_of_diamonds': 6, '7_of_diamonds': 7, '8_of_diamonds': 8, '9_of_diamonds': 9, '10_of_diamonds': 10, 'jack_of_diamonds': 10, 'queen_of_diamonds': 10, 'king_of_diamonds': 10, 'ace_of_diamonds': 11, '2_of_hearts': 2, '3_of_hearts': 3, '4_of_hearts': 4, '5_of_hearts': 5, '6_of_hearts': 6, '7_of_hearts': 7, '8_of_hearts': 8, '9_of_hearts': 9, '10_of_hearts': 10, 'jack_of_hearts': 10, 'queen_of_hearts': 10, 'king_of_hearts': 10, 'ace_of_hearts': 11, '2_of_spades': 2, '3_of_spades': 3, '4_of_spades': 4, '5_of_spades': 5, '6_of_spades': 6, '7_of_spades': 7, '8_of_spades': 8, '9_of_spades': 9, '10_of_spades': 10, 'jack_of_spades': 10, 'queen_of_spades': 10, 'king_of_spades': 10, 'ace_of_spades': 11}\n"
     ]
    }
   ],
   "source": [
    "dict_of_cards = {}\n",
    "for suit in suits:\n",
    "    for rank, value in zip(ranks, card_values):\n",
    "        card_name = f'{rank}_of_{suit}'\n",
    "        dict_of_cards[card_name] = value\n",
    "print(dict_of_cards)"
   ]
  },
  {
   "cell_type": "code",
   "execution_count": 11,
   "id": "a7d80d61-c430-47f7-b602-66d55a41e666",
   "metadata": {},
   "outputs": [
    {
     "name": "stdout",
     "output_type": "stream",
     "text": [
      "11\n"
     ]
    }
   ],
   "source": [
    "p = dict_of_cards.get('ace_of_spades')\n",
    "print(p)"
   ]
  },
  {
   "cell_type": "code",
   "execution_count": null,
   "id": "b422f800-3c50-4d3e-b90f-84ad86423c59",
   "metadata": {},
   "outputs": [],
   "source": []
  }
 ],
 "metadata": {
  "kernelspec": {
   "display_name": "Python 3 (ipykernel)",
   "language": "python",
   "name": "python3"
  },
  "language_info": {
   "codemirror_mode": {
    "name": "ipython",
    "version": 3
   },
   "file_extension": ".py",
   "mimetype": "text/x-python",
   "name": "python",
   "nbconvert_exporter": "python",
   "pygments_lexer": "ipython3",
   "version": "3.12.1"
  }
 },
 "nbformat": 4,
 "nbformat_minor": 5
}
