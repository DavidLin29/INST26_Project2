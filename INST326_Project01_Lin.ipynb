{
 "cells": [
  {
   "cell_type": "markdown",
   "id": "3a9c5dfc",
   "metadata": {},
   "source": [
    "## INST326 Project 01: 21 Card Game"
   ]
  },
  {
   "cell_type": "markdown",
   "id": "7af4119b",
   "metadata": {},
   "source": [
    "#### David Lin (replace my name with yours on this line and in the notebook name)"
   ]
  },
  {
   "cell_type": "markdown",
   "id": "05c81182",
   "metadata": {},
   "source": [
    "Refer to the game description included with the assignment for a description of the card game 21 and rules of play we will use for this project."
   ]
  },
  {
   "cell_type": "markdown",
   "id": "e2cfd992",
   "metadata": {},
   "source": [
    "Place any opening comments here"
   ]
  },
  {
   "cell_type": "markdown",
   "id": "1766a27f",
   "metadata": {},
   "source": []
  },
  {
   "cell_type": "markdown",
   "id": "ac57d15e",
   "metadata": {},
   "source": [
    "### Imports"
   ]
  },
  {
   "cell_type": "code",
   "execution_count": 1,
   "id": "5107854a",
   "metadata": {},
   "outputs": [],
   "source": [
    "import random\n",
    "import tkinter as tk\n",
    "\n",
    "from tkinter import ttk"
   ]
  },
  {
   "cell_type": "markdown",
   "id": "661ed6b8",
   "metadata": {},
   "source": [
    "Note on the imports above\n",
    "from tkinter import * imports everything from tkinter directly into the main program. This is generally bad practice for several reasons including the potential for variable naming conflicts. It is provided here for compatibility with code examples from the BroCode videos. Your code would be better if you preceeded all calls to tkinter methods with tk. For example, window = tk.Tk() instead of window = Tk().\n",
    "\n",
    "import tkinter as tk also imports everything, but keeps all of the functionality separate from the main program space. This avoids potential naming conflicts, among other things. This is the preferred way to do it and it is used in the Cardbutton class below.\n",
    "\n",
    "from tkinter import ttk is technically redundant, but for a specific purpose. The ttk class in tkinter represents a significant upgrade in many of the methods originally included in tkinter. However, many applications were already running with regular tk functionality when ttk was released. While ttk is substantively better, the original tk was retained for backward compatibility. If you do more programming in tkinter beyond this course you should learn and program with ttk from the start. It is imported here specifically to distinguish between old tk and new ttk widgets in the code.\n"
   ]
  },
  {
   "cell_type": "markdown",
   "id": "c247d613",
   "metadata": {},
   "source": [
    "### Cardbutton Class"
   ]
  },
  {
   "cell_type": "markdown",
   "id": "cf618341",
   "metadata": {},
   "source": [
    "This class combines a built in tkinter class - Button() - and modifies it to add the attributes we want for our card buttons. This is called inheritance. Since we have not really covered this yet, this class is being provided for you to use in your program. Please take a few moments to review it so you understand what is going on in the class."
   ]
  },
  {
   "cell_type": "code",
   "execution_count": 2,
   "id": "ce155f29",
   "metadata": {},
   "outputs": [],
   "source": [
    "# creates a custom button that inherits all the features of a tk.Button() and adds card attributes\n",
    "class Cardbutton(tk.Button):\n",
    "    def __init__(self, master=None, suit=None, rank=None, value=None): # the arguments on this line are inbound, meaning we pass them when we instantiate the object\n",
    "        super().__init__(master) # on this line we call the __init__ method of tk.Button and pass the master attribute to it. This gives us all the button attributes and functionality\n",
    "        self.config(bg = 'green')\n",
    "\n",
    "        # the rest of the attributes in the main __init__ method are card attributes from our former card class\n",
    "        self.suit = suit\n",
    "        self.rank = rank # face rank of the card\n",
    "        self.value = value # integer value of the card\n",
    "        self.name = f\"{rank}_of_{suit}\"\n",
    "        self.face = f\"images\\\\{rank} of {suit}.png\" # relative address\n",
    "        self.back = \"images\\\\BackOfCard.png\"  # relative address\n",
    "        self.suit_val = suits.index(suit)\n",
    "        self.facetk = tk.PhotoImage(file = self.face) # calls the tk.PhotoImage method which creates an image object\n",
    "        self.backtk = tk.PhotoImage(file = self.back)\n",
    "        self.display = self.facetk # sets the default display\n",
    "        self.hand = None # an attribute that allows cards to be assigned to specific hands\n",
    "\n",
    "\n",
    "        # Bind mouse events\n",
    "        self.bind(\"<Enter>\", self.on_hover)\n",
    "        self.bind(\"<Leave>\", self.on_leave)\n",
    "\n",
    "    def on_hover(self, event): # change the background and card image when the cursor hovers over it\n",
    "        self.config(bg=\"lightblue\")  \n",
    "\n",
    "    def on_leave(self, event): # change back when not hovering\n",
    "        self.config(bg=\"green\", image=self.display)  # Restore original color\n",
    " \n",
    "    def ace_toggle(self): # toggle the value of an ace\n",
    "        if self.rank == 'ace':\n",
    "            if self.value == 11:\n",
    "                self.value = 1\n",
    "            else:\n",
    "                self.value = 11\n"
   ]
  },
  {
   "cell_type": "markdown",
   "id": "3e0cadbd",
   "metadata": {},
   "source": [
    "#### Initialize Game Variables"
   ]
  },
  {
   "cell_type": "code",
   "execution_count": 3,
   "id": "635d80c9",
   "metadata": {},
   "outputs": [],
   "source": [
    "# initialize your game variables here by adding your suits, ranks and values created in lab 01.\n",
    "suits = ['clubs', 'diamonds', 'hearts', 'spades']\n",
    "ranks = ['2', '3', '4', '5', '6', '7', '8', '9', '10', 'jack', 'queen', 'king', 'ace']\n",
    "values = [2, 3, 4, 5, 6, 7, 8, 9, 10, 10, 10, 10, 11]\n",
    "nplayers = 1 # for this project we are limiting the code to one player."
   ]
  },
  {
   "cell_type": "markdown",
   "id": "291b08c4",
   "metadata": {},
   "source": [
    "Remember, Python is a dynamically-typed language. We are not *declaring* the variables above. Rather, we are initializing or instantiating them because they are referenced in the code that follows."
   ]
  },
  {
   "cell_type": "markdown",
   "id": "592a3907",
   "metadata": {},
   "source": [
    "### Game Class"
   ]
  },
  {
   "cell_type": "markdown",
   "id": "fa95659c",
   "metadata": {},
   "source": [
    "In the cell below create your game class. You can refer to labs 1 and 2, and reuse code created there, or in the code examples used in class. Your class shoud start with an __init__ method. It should also include definitions of the following methods: make_deck, deal, hit, stay, and call. (more on these in a bit.) You should also include a method to calculate the score for a given hand. You may include the code to shuffle the deck in your make_deck method so it returns a shuffled deck, or you may handle it separately as we have in the class examples. Be sure to document your code with comments."
   ]
  },
  {
   "cell_type": "code",
   "execution_count": 4,
   "id": "34ecf44f",
   "metadata": {},
   "outputs": [],
   "source": [
    "# Create your game class here\n",
    "class Game():\n",
    "    \"\"\"So I included a deck as every game needs a deck, and we only have 1 player so an empty hand for player and the dealer. Then I had columns as I am incrementing them with the grid function.\n",
    "    Then I had the scores as all the scores start at 0\"\"\"\n",
    "    def __init__(self):\n",
    "        self.deck = self.make_deck()\n",
    "        self.dealer_hand = []\n",
    "        self.player_hand = []\n",
    "        self.player_card_column = 0\n",
    "        self.dealer_card_column = 0\n",
    "        self.player_score = 0\n",
    "        self.dealer_score = 0\n",
    "        \n",
    "    #Method to make the deck\n",
    "    def make_deck(self):\n",
    "        deck = []\n",
    "        for suit in suits:\n",
    "            for rank, value in zip(ranks, values):\n",
    "                card_button = Cardbutton(suit = suit, rank = rank, value = value)\n",
    "                deck.append(card_button)\n",
    "        random.shuffle(deck)\n",
    "        self.deck = deck\n",
    "                \n",
    "#Method to deal the deck, it deals dealer then player then dealer then player.\n",
    "    def deal(self):\n",
    "        for i in range(2):\n",
    "            self.dealer_hand.append(self.deck.pop())\n",
    "            self.player_hand.append(self.deck.pop())\n",
    "    \n",
    "  \n",
    "\n",
    "    #How I calculate the scores with the number of aces and score set to 0 then using the rank and values to calculate the score for each hand\n",
    "    def scores(self, hand):\n",
    "        score = 0\n",
    "        num_aces = 0\n",
    "\n",
    "        for card in hand:\n",
    "            if card.rank in ['jack', 'queen', 'king']:\n",
    "                score += 10\n",
    "            elif card.rank == 'ace':\n",
    "                num_aces += 1\n",
    "            else:\n",
    "                score += card.value\n",
    "\n",
    "    #How ace calculations work as ace can be 1 or 11\n",
    "        for _ in range(num_aces):\n",
    "            if score + 11 <= 21:\n",
    "                score += 11\n",
    "            else:\n",
    "                score += 1\n",
    "\n",
    "        return score\n",
    "    \"\"\"Basically I have two ways of hitting, the way the player hits which it will always hit if you click hit and then there is the way that dealer hits which only be appliable if the dealer is below 17. \"\"\"\n",
    "    def player_hit(self):\n",
    "        hit_card = self.deck.pop()\n",
    "        self.player_hand.append(hit_card)\n",
    "        self.player1_score = self.scores(self.player_hand)\n",
    "        for card in self.player_hand:\n",
    "            if card.rank == \"ace\" and self.player1_score > 21:\n",
    "                card.ace_toggle()\n",
    "                self.player1_score = self.scores(self.player_hand)\n",
    "                break\n",
    "        player1_label.config(text = f\"test\\nScore: {self.scores(self.player_hand)}\")\n",
    "        self.player_card_column += 1\n",
    "        imageFront = tk.PhotoImage(file = card.face)\n",
    "        player_card = tk.Button(root, image = imageFront)\n",
    "        player_card.photo = imageFront\n",
    "        player_card.grid(row = 1, column = self.player_card_column, padx = \"20px\", pady = \"20px\")\n",
    "    \n",
    "    #How the dealer deals\n",
    "    def dealer_hit(self):\n",
    "        if self.scores(self.dealer_hand) < 17:\n",
    "            hit_card = self.deck.pop()\n",
    "            self.dealer_hand.append(hit_card)\n",
    "            self.dealer1_score = self.scores(self.dealer_hand)\n",
    "\n",
    "            for card in self.dealer_hand:\n",
    "                if card.rank == \"ace\" and self.dealer1_score > 21:\n",
    "                    card.ace_toggle()\n",
    "\n",
    "            self.dealer_card_column += 1\n",
    "            card = self.dealer_hand[-1]\n",
    "            imageFront = tk.PhotoImage(file=card.face)\n",
    "            dealer_card = tk.Button(root, image=imageFront)\n",
    "            dealer_card.photo = imageFront\n",
    "            dealer_card.grid(row=0, column=self.dealer_card_column, padx=\"20px\", pady=\"20px\")\n",
    "        \n",
    "        self.dealer1_score = self.scores(self.dealer_hand)\n",
    "\n",
    "        dealer_label.config(text=f\"test\\nScore: {self.dealer1_score}\")\n",
    "    \n",
    "    #I thought that these functions would be easier to do outside the class so I just passed them\n",
    "    def stay(self):\n",
    "        pass\n",
    "    def call(self):\n",
    "        pass\n"
   ]
  },
  {
   "cell_type": "markdown",
   "id": "ce26809e",
   "metadata": {},
   "source": [
    "Class notes\n",
    "(add any additional notes you want relative to your game class in this cell. You do not need to repeat information included in comments within the code.)"
   ]
  },
  {
   "cell_type": "markdown",
   "id": "c664064f",
   "metadata": {},
   "source": []
  },
  {
   "cell_type": "markdown",
   "id": "4737cae0",
   "metadata": {},
   "source": [
    "### Main Execution"
   ]
  },
  {
   "cell_type": "markdown",
   "id": "631889fc",
   "metadata": {},
   "source": [
    "Write your main execution code in the code cell below. Be sure to document your code with comments. You may reuse and/or modify code from Lab 1, Lab 2, and/or the class examples as needed. DO NOT copy code from online examples or use generative AI like ChatGPT to generate your code. You may follow the examples in the BroCode video.\n",
    "\n",
    "#### Instructions\n",
    "1. Create a window and name it 'Project 01: Blackjack Game'. Refer to lab 02.\n",
    "2. Instantiate a game and name it mygame.\n",
    "3. Create a shuffled deck named mydeck using the make_deck method from your new game instance, mygame. Remember that every card in your deck is actually a tkinter button. You have instantiated them but have not added them to the window yet.\n",
    "4. Create two hands, one for player1 and one for the dealer, and deal the hands using the deal method you created in your mygame instance. You may create the hands in the main code cell, or you may create a method within your game class - it's your choice (method in the game class might be better). Set the 'hand' attribute of each card to reflect the hand it belongs to. (Hint: if you create a method, you might consider adding two attributes to your class: player1_hand and dealer_hand. Set them to empty lists [] by default.)\n",
    "5. Either during the deal or after, set the 'display' attribute of the second card dealt to the dealer to 'backtk'. Take a look at the Cardbutton class and notice that the display attribute is set to 'facetk' by default.  <font color = red>**Change to the display requirements: All player cards to be displayed face-up. Second dealer card to be displayed face-down.**</font>  \n",
    "6. Create a method in your game class to calculate the score (sum of card values) for each hand - player1 and dealer. Hint: you might create player1_score and dealer_score attributes in your game class. Set the to 0 by default.\n",
    "7. Create two tkinter labels, one for player1 and 1 for the dealer. The text for each label should display as two lines (include '\\n' where you want the line break.) The first line should display the player or players name (you could include an input statement to get the player's name). The second line should include the player's score. EXCEPT: do not show the dealers score until after the 'Call' button is pressed.\n",
    "8. Create four regular buttons (not Cardbuttons) using the tk.Button() method: Hit, Stay, Call, and Quit. The command= attribute should reference the respective methods you created (or will create) in the game class. See Below.\n",
    "8a. hit button / hit method. the hit method should draw a card from the deck and add it to the player's (or dealer's) hand, updating the card's 'hand' attribute. The player's (or dealer's) score should be updated to reflect the value of the additional card. The players (or dealer's) label should be updated with the new score using the label.config() method. The new card should be added to the window - face up.\n",
    "8b. stay button / stay method. the stay button is clicked when player1 has taken all the hit cards they want. the stay method then initiates an automated 'hit' sequence for the dealer according to the following rule: if dealer_score < 17, hit; else stay. Dealer's score and cards in the window are updated with each hit.\n",
    "8c. call button / call method. Onece the dealer's hand has been updated in the stay method, the player presses the call button to compute and display all scores, show all cards, determine a winner, and display the winner message in the window. If both the player and dealer scores are greater than 21, there is no winner. if the scores are the same it is a tie. Else, the hand with the closest score <= 21 is the winner. If it is the player, display the message \"Winner winner, chicken dinner!\" in the window. If the dealer wins, display \"House wins.\" in the window.\n",
    "8d. quit button: the command= attribute should be: command=window.destroy. That will close the window and end the program.\n",
    "9. Add all your widgets to the window. We will be using tkinter grid layout (refer to lab 2). add 20px of padding (x and y) to each item.\n",
    "9a. add player1 label to row 1, column 0. Add dealer label to row 2, column 0.\n",
    "9b. Create a loop to add your cards. player cards in row 1, dealer cards in row 2.\n",
    "9c. Add your four play buttons (hit, stay, call, and quit) to row 3 and columns 0, 1, 2, and 3, respectively.\n",
    "10. ~Add a 'peek' method that allows the player to see the cards in their hand. You may do this in one of two ways - your choice.~  \n",
    "~10a. Display the player's cards face up in a new window (refer to Lab 02) *OR:*  \n",
    "10b. Modify the Cardbutton.on_hover() method as follows: add image=self.facetk to the self.config() statement (refer to the on_leave() method for format. Then place the self.config() statement inside an if statement that only executes self.config() if self.hand == 'player1'. else, it's just self.config(bg=\"lightblue\"). This conditional loop prevents the player from peeking at the dealer's cards.~  <font color = red>*Since players hands will be displayed face-up, the functionality in step 10 is no longer needed.*</font>  \n",
    "11. Make sure your last line is: window.mainloop()\n",
    "12. Document your code with comments.\n",
    "\n"
   ]
  },
  {
   "cell_type": "markdown",
   "id": "4c028fa1",
   "metadata": {},
   "source": [
    "One final note: When developing your tkinter code in Jupyter notebook, crashes tend to wreak havok on the kernal and further functioning of your program. If you start getting error messages for code you think should work, try restarting the kernal and clearing all output under the Kernal menu item above. Sometimes it takes a few seconds, so wait for all your old output and error messages to disappear."
   ]
  },
  {
   "cell_type": "code",
   "execution_count": 5,
   "id": "f8ffed2b",
   "metadata": {},
   "outputs": [
    {
     "name": "stdout",
     "output_type": "stream",
     "text": [
      "7\n",
      "11\n",
      "18\n"
     ]
    }
   ],
   "source": [
    "# Write your main execution here\n",
    "#Setting up my background and window \n",
    "\n",
    "#Instruction 1\n",
    "root = tk.Tk()\n",
    "root.title(\"Project 01: Blackjack Game\")\n",
    "root.geometry(\"1000x800\")\n",
    "root.config(bg = 'green')\n",
    "\n",
    "# instruction 2\n",
    "mygame = Game()\n",
    "\n",
    "# instruction 3\n",
    "\n",
    "mygame.make_deck()\n",
    "# instruction 4\n",
    "mygame.player_hand\n",
    "mygame.dealer_hand\n",
    "mygame.deal()\n",
    "for card in mygame.player_hand:\n",
    "    print(card.value)\n",
    "\n",
    "mygame.dealer_hand[1].display = mygame.dealer_hand[1].backtk\n",
    "print(mygame.scores(mygame.player_hand))\n",
    "\n",
    "#Instruction 7\n",
    "player1_label = tk.Label(root, text = f\"Player \\n Score:  {mygame.scores(mygame.player_hand)}\", font = (\"Gill Sans\", \"25\"), bg = \"green\")\n",
    "player1_label.grid(row = 1, column = 0)\n",
    "dealer_label = tk.Label(root, text = \"Dealer \\n Score:  \", font = (\"Gill Sans\", \"25\"), bg = \"green\")\n",
    "dealer_label.grid(row = 0, column = 0)\n",
    "\n",
    "#Instruction 8\n",
    "hit_button = tk.Button(root, text= \"Hit\", command= mygame.player_hit)\n",
    "hit_button.grid(column = 0, row = 2)\n",
    "\n",
    "\n",
    "\n",
    "#Making my call button, basically calculates the score and then prints out if you won or not\n",
    "def call():\n",
    "    results = tk.Label(root, text = \"\", bg = \"Green\")\n",
    "    #print(mygame.scores(mygame.player_hand))\n",
    "    if mygame.scores(mygame.player_hand) > 21 and mygame.scores(mygame.dealer_hand) > 21:\n",
    "        results.config(text = \"No Winner\")\n",
    "    elif mygame.scores(mygame.player_hand) > 21:\n",
    "        results.config(text = \"House Wins\")\n",
    "    elif mygame.scores(mygame.dealer_hand) > 21:\n",
    "        results.config(text = \"Winner winner, chicken dinner!\")\n",
    "    elif mygame.scores(mygame.player_hand) > mygame.scores(mygame.dealer_hand) and mygame.scores(mygame.player_hand) < 22:\n",
    "        results.config(text = \"Winner winner, chicken dinner!\")\n",
    "    elif mygame.scores(mygame.dealer_hand) > mygame.scores(mygame.player_hand) and mygame.scores(mygame.dealer_hand) < 22:\n",
    "        results.config(text = \"House Wins\")\n",
    "    elif mygame.scores(mygame.dealer_hand) == mygame.scores(mygame.player_hand):\n",
    "        results.config(text = \"Tie\")\n",
    "    results.grid(row = 5, column = 2)\n",
    "call_button = tk.Button(root, text = \"Call\", command = call)\n",
    "call_button.grid(column = 2, row = 2)\n",
    "\n",
    "\n",
    "#The stay button activates the dealer hit and then updates the cardbuttons\n",
    "def stay():\n",
    "    mygame.dealer1_score = mygame.scores(mygame.dealer_hand)\n",
    "\n",
    "    dealer_label.config(text=f\"test\\nScore: {mygame.dealer1_score}\")\n",
    "    while mygame.scores(mygame.dealer_hand) < 17:\n",
    "        mygame.dealer_hit()\n",
    "    mygame.dealer_card_column = 0\n",
    "    for card in mygame.dealer_hand:\n",
    "        mygame.dealer_card_column += 1\n",
    "        front = tk.PhotoImage(file = card.face)\n",
    "        dealer_card = tk.Button(root, image=front)\n",
    "        dealer_card.photo = front\n",
    "        dealer_card.grid( column = mygame.dealer_card_column, row = 0, padx = \"20px\", pady = \"20px\")\n",
    "\n",
    "\n",
    "    \n",
    "    \n",
    "    \n",
    "    \n",
    "#Actually making the button    \n",
    "stay_button = tk.Button(root, text = \"Stay\", command = stay)\n",
    "stay_button.grid(column = 1, row = 2)\n",
    "\n",
    "#Closes the window\n",
    "quit_button = tk.Button(root, text  = \"Quit\", command = root.destroy)\n",
    "quit_button.grid(column = 3, row = 2)\n",
    "\n",
    "#The code below just makes the initial card button and images on the screen\n",
    "for card in mygame.player_hand:\n",
    "    mygame.player_card_column += 1\n",
    "    front = tk.PhotoImage(file = card.face)\n",
    "    player_card = tk.Button(root, image=front)\n",
    "    player_card.photo = front\n",
    "    player_card.grid( column = mygame.player_card_column, row = 1, padx = \"20px\", pady = \"20px\")\n",
    "\n",
    "first_card = 0    \n",
    "for card in mygame.dealer_hand:\n",
    "    mygame.dealer_card_column += 1\n",
    "    image = card.display\n",
    "    if first_card != 0:\n",
    "        image = card.backtk\n",
    "        \n",
    "    dealer_card = tk.Button(root, image=image)\n",
    "    dealer_card.photo = image\n",
    "    dealer_card.grid( column = mygame.dealer_card_column, row = 0, padx = \"20px\", pady = \"20px\")\n",
    "    first_card += 1\n",
    "    \n",
    "\n",
    "    \n",
    "\n",
    "\n",
    "\n",
    "root.mainloop()"
   ]
  },
  {
   "cell_type": "markdown",
   "id": "0a72e996",
   "metadata": {},
   "source": [
    "Main execution notes.\n",
    "(add any additional notes here. Do not repeat what you have already documented in the code.)"
   ]
  },
  {
   "cell_type": "markdown",
   "id": "ee3d0f5d",
   "metadata": {},
   "source": [
    "### Extra Credit"
   ]
  },
  {
   "cell_type": "markdown",
   "id": "b41047c3",
   "metadata": {},
   "source": [
    "10 points extra credit will be awarded for converting all code to work with the import statement import tkinter as tk instead of 'from tkinter import * '. To claim the extra credit:\n",
    "1. Make the necessary code edits\n",
    "2. Comment out the 'from tkinter import * ' statement in the imports cell at the top of this notebook.\n",
    "3. Enter 'My code works. I claim 10 points of extra credit.' in the cell below."
   ]
  },
  {
   "cell_type": "markdown",
   "id": "9da8acce",
   "metadata": {},
   "source": [
    "My code works. I claim 10 points of extra credit."
   ]
  },
  {
   "cell_type": "markdown",
   "id": "eb2afe0f",
   "metadata": {},
   "source": [
    "#### A Helpful Check"
   ]
  },
  {
   "cell_type": "markdown",
   "id": "acf139c3",
   "metadata": {},
   "source": [
    "The following code is borrowed from the in-class example and may be used to take a look at the attributes of your card objects after you create your deck. See the GUI example for additional notes."
   ]
  },
  {
   "cell_type": "code",
   "execution_count": 6,
   "id": "c53a1ee9",
   "metadata": {},
   "outputs": [
    {
     "ename": "NameError",
     "evalue": "name 'deck' is not defined",
     "output_type": "error",
     "traceback": [
      "\u001b[1;31m---------------------------------------------------------------------------\u001b[0m",
      "\u001b[1;31mNameError\u001b[0m                                 Traceback (most recent call last)",
      "Cell \u001b[1;32mIn[6], line 1\u001b[0m\n\u001b[1;32m----> 1\u001b[0m mycard \u001b[38;5;241m=\u001b[39m \u001b[43mdeck\u001b[49m\u001b[38;5;241m.\u001b[39mpop()\n\u001b[0;32m      2\u001b[0m \u001b[38;5;28mprint\u001b[39m(mycard)\n\u001b[0;32m      3\u001b[0m \u001b[38;5;28mprint\u001b[39m()\n",
      "\u001b[1;31mNameError\u001b[0m: name 'deck' is not defined"
     ]
    }
   ],
   "source": [
    "mycard = deck.pop()\n",
    "print(mycard)\n",
    "print()\n",
    "print(vars(mycard))\n",
    "print()\n",
    "print(mycard.name)"
   ]
  }
 ],
 "metadata": {
  "kernelspec": {
   "display_name": "Python 3 (ipykernel)",
   "language": "python",
   "name": "python3"
  },
  "language_info": {
   "codemirror_mode": {
    "name": "ipython",
    "version": 3
   },
   "file_extension": ".py",
   "mimetype": "text/x-python",
   "name": "python",
   "nbconvert_exporter": "python",
   "pygments_lexer": "ipython3",
   "version": "3.12.1"
  }
 },
 "nbformat": 4,
 "nbformat_minor": 5
}
